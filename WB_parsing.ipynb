{
  "cells": [
    {
      "cell_type": "markdown",
      "metadata": {
        "colab_type": "text",
        "id": "view-in-github"
      },
      "source": [
        "<a href=\"https://colab.research.google.com/github/BelKaty/BelKatyParsing/blob/main/HW7_selenium.ipynb\" target=\"_parent\"><img src=\"https://colab.research.google.com/assets/colab-badge.svg\" alt=\"Open In Colab\"/></a>"
      ]
    },
    {
      "cell_type": "code",
      "execution_count": null,
      "id": "cef5c2fd82565283",
      "metadata": {
        "ExecuteTime": {
          "end_time": "2024-04-07T18:22:35.023447Z",
          "start_time": "2024-04-07T18:22:35.011441Z"
        },
        "id": "cef5c2fd82565283",
        "jupyter": {
          "outputs_hidden": false
        }
      },
      "outputs": [],
      "source": [
        "# Устанавливаем пакеты если они не установлены\n",
        "# !pip install selenium\n",
        "# !pip install pandas\n",
        "# !pip install matplotlib\n",
        "# !pip install pymongo"
      ]
    },
    {
      "cell_type": "code",
      "execution_count": null,
      "id": "9cdccca6d4066646",
      "metadata": {
        "ExecuteTime": {
          "end_time": "2024-04-07T19:23:30.205356Z",
          "start_time": "2024-04-07T19:23:23.309379Z"
        },
        "id": "9cdccca6d4066646",
        "jupyter": {
          "outputs_hidden": false
        }
      },
      "outputs": [],
      "source": [
        "from selenium import webdriver\n",
        "from selenium.webdriver.chrome.options import Options\n",
        "from selenium.webdriver.support.ui import WebDriverWait\n",
        "from selenium.webdriver.support import expected_conditions as EC\n",
        "from selenium.webdriver.common.by import By\n",
        "from selenium.webdriver.common.keys import Keys\n",
        "import time\n",
        "import re\n",
        "import pandas as pd\n",
        "import matplotlib.pyplot as plt\n",
        "# Настройка формата вывода чисел float\n",
        "pd.set_option('display.float_format', '{:.2f}'.format)"
      ]
    },
    {
      "cell_type": "code",
      "execution_count": null,
      "id": "2a5684727e6199d2",
      "metadata": {
        "ExecuteTime": {
          "end_time": "2024-04-07T18:22:42.787071Z",
          "start_time": "2024-04-07T18:22:35.054961Z"
        },
        "id": "2a5684727e6199d2",
        "jupyter": {
          "outputs_hidden": false
        }
      },
      "outputs": [],
      "source": [
        "options = Options()\n",
        "# Запуск браузера с развернутым экраном\n",
        "options.add_argument('start-maximized')\n",
        "# Будем использовать браузер Chrome\n",
        "driver = webdriver.Chrome(options=options)\n",
        "# Открываем ссылку\n",
        "driver.get('https://www.wildberries.ru/')\n",
        "time.sleep(4)"
      ]
    },
    {
      "cell_type": "code",
      "execution_count": null,
      "id": "90dedca122f1057f",
      "metadata": {
        "ExecuteTime": {
          "end_time": "2024-04-07T18:22:42.898600Z",
          "start_time": "2024-04-07T18:22:42.788072Z"
        },
        "id": "90dedca122f1057f",
        "jupyter": {
          "outputs_hidden": false
        }
      },
      "outputs": [],
      "source": [
        "wait = WebDriverWait(driver, 10)\n",
        "# Ищем строку поиска\n",
        "input = wait.until(EC.presence_of_element_located((By.ID, \"searchInput\")))\n",
        "# Вводим фразу поиска и нажимаем Enter\n",
        "input.send_keys('аккумулятор для ибп 12v')\n",
        "input.send_keys(Keys.ENTER)"
      ]
    },
    {
      "cell_type": "markdown",
      "id": "7dd83b9570ef744d",
      "metadata": {
        "collapsed": false,
        "id": "7dd83b9570ef744d",
        "jupyter": {
          "outputs_hidden": false
        }
      },
      "source": [
        "### Прокручиваем страницу и записываем все ссылки на аккумуляторы, если есть кнопка \"далее\" - нажимаем её или выходим из цикла"
      ]
    },
    {
      "cell_type": "code",
      "execution_count": null,
      "id": "b5db71c4bf1c45af",
      "metadata": {
        "ExecuteTime": {
          "end_time": "2024-04-07T18:29:22.712280Z",
          "start_time": "2024-04-07T18:22:42.900594Z"
        },
        "id": "b5db71c4bf1c45af",
        "jupyter": {
          "outputs_hidden": false
        }
      },
      "outputs": [],
      "source": [
        "# Список ссылок на страницы аккумулятора\n",
        "url_list = []\n",
        "\n",
        "while True:\n",
        "    # Количество аккумуляторов на странице\n",
        "    count = None\n",
        "    while True:\n",
        "        time.sleep(4)\n",
        "        # Ожидаем появление объекта (html код) карточек товара\n",
        "        cards = wait.until(EC.presence_of_all_elements_located((By.XPATH, '//article[@id]')))\n",
        "        # Выходим из цикла, если при прокрутке страницы, количество товаров не меняется\n",
        "        if len(cards) == count:\n",
        "            break\n",
        "        # Вычисляем сколько карточек товара на странице\n",
        "        count = len(cards)\n",
        "        # Прокручиваем страницу выполняя JAVA Script\n",
        "        driver.execute_script('window.scrollBy(0, 1800)')\n",
        "        time.sleep(2)\n",
        "\n",
        "    # На полностью загруженной странице соберём инфу\n",
        "    for card in cards:\n",
        "        # Записываем ссылку каждого аккумулятора\n",
        "        url = card.find_element(By.XPATH, './div/a').get_attribute('href')\n",
        "        url_list.append(url)\n",
        "\n",
        "    # Проверяем есть ли кнопка дальше\n",
        "    try:\n",
        "        next = driver.find_element(By.XPATH,  \"//a[@class='pagination-next pagination__next j-next-page']\")\n",
        "        next.click()\n",
        "    except Exception:\n",
        "        break"
      ]
    },
    {
      "cell_type": "code",
      "execution_count": null,
      "id": "6a44c926f7adea58",
      "metadata": {
        "ExecuteTime": {
          "end_time": "2024-04-07T18:40:33.419809Z",
          "start_time": "2024-04-07T18:40:33.411807Z"
        },
        "id": "6a44c926f7adea58",
        "jupyter": {
          "outputs_hidden": false
        },
        "outputId": "bf785ca1-fb55-49ed-9cb3-790c42d27a41"
      },
      "outputs": [
        {
          "name": "stdout",
          "output_type": "stream",
          "text": [
            "Всего получено: 970 ссылок на аккумуляторы\n"
          ]
        }
      ],
      "source": [
        "print(f'Всего получено: {len(url_list)} ссылок на аккумуляторы')"
      ]
    },
    {
      "cell_type": "markdown",
      "id": "d630620ad9f57c25",
      "metadata": {
        "collapsed": false,
        "id": "d630620ad9f57c25",
        "jupyter": {
          "outputs_hidden": false
        }
      },
      "source": [
        "### Заходим на каждую страницу найденныж аккомуляторов и парсим её"
      ]
    },
    {
      "cell_type": "code",
      "execution_count": null,
      "id": "467ce333e09bf108",
      "metadata": {
        "ExecuteTime": {
          "end_time": "2024-04-07T19:08:02.354880Z",
          "start_time": "2024-04-07T18:55:25.785715Z"
        },
        "id": "467ce333e09bf108",
        "jupyter": {
          "outputs_hidden": false
        }
      },
      "outputs": [],
      "source": [
        "driver2 = webdriver.Chrome(options=options)\n",
        "wait2 = WebDriverWait(driver2, 10)\n",
        "acb_list = []\n",
        "\n",
        "# Просматриваем все ссылки ан аккумуляторы\n",
        "for url_item in url_list:\n",
        "    acb_dict = {}\n",
        "\n",
        "    driver2.get(url_item)\n",
        "    # Заносим назание аккумулятора\n",
        "    acb_dict['name'] = wait2.until(EC.presence_of_element_located((By.XPATH, \"//h1\"))).text\n",
        "    # Заносим цену аккумулятора\n",
        "    price = wait2.until(EC.presence_of_all_elements_located((By.CLASS_NAME, 'price-block__wallet-price')))\n",
        "    try:\n",
        "        acb_dict['price'] = float(re.sub(r'[^\\d.]+', '', price[1].text))\n",
        "    except Exception:\n",
        "        acb_dict['price'] = None\n",
        "    # Заносим бренд аккумулятора\n",
        "    acb_dict['brend'] = wait2.until(EC.presence_of_element_located((By.CLASS_NAME, \"product-page__header-brand\"))).text\n",
        "    # Заносим url ссылку на аккумулятор\n",
        "    acb_dict['url'] = url_item\n",
        "\n",
        "    # Обрабатываем табличные данные\n",
        "    table_label = wait2.until(EC.presence_of_all_elements_located((By.XPATH, '//th')))\n",
        "    table_param = wait2.until(EC.presence_of_all_elements_located((By.XPATH, '//td')))\n",
        "    # Заносим данные в зависимости от названия\n",
        "    for i in range(len(table_label)):\n",
        "        if table_label[i].text == 'Страна производства':\n",
        "            acb_dict['country'] = table_param[i].text\n",
        "        elif table_label[i].text == 'Емкость аккумулятора (Ач)':\n",
        "            try:\n",
        "                val = table_param[i].text.strip()\n",
        "                val, *_ = val.split()\n",
        "                acb_dict['capacity'] = float(re.sub(r'[^\\d.]+', '', val))\n",
        "            except Exception:\n",
        "                acb_dict['capacity'] = None\n",
        "        elif table_label[i].text == 'Напряжение':\n",
        "             try:\n",
        "                val = table_param[i].text.strip()\n",
        "                val, *_ = val.split()\n",
        "                acb_dict['voltage'] = float(re.sub(r'[^\\d.]+', '', val))\n",
        "             except Exception:\n",
        "                acb_dict['voltage'] = None\n",
        "\n",
        "    # Добавляем словарь в список аккумуляторов\n",
        "    acb_list.append(acb_dict)"
      ]
    },
    {
      "cell_type": "code",
      "execution_count": null,
      "id": "99bf89db7b707db9",
      "metadata": {
        "ExecuteTime": {
          "end_time": "2024-04-07T19:08:19.060923Z",
          "start_time": "2024-04-07T19:08:19.053923Z"
        },
        "id": "99bf89db7b707db9",
        "jupyter": {
          "outputs_hidden": false
        },
        "outputId": "1e7cc4e0-848e-4d98-f68a-06cf457cd815"
      },
      "outputs": [
        {
          "name": "stdout",
          "output_type": "stream",
          "text": [
            "Обработано 970 страниц\n"
          ]
        }
      ],
      "source": [
        "print(f'Обработано {len(acb_list)} страниц')"
      ]
    },
    {
      "cell_type": "markdown",
      "id": "9bbb530f-e37a-4fef-80e6-a7b4b8474a80",
      "metadata": {
        "id": "9bbb530f-e37a-4fef-80e6-a7b4b8474a80"
      },
      "source": [
        "### Посмотрим, что за данные мы получили"
      ]
    },
    {
      "cell_type": "code",
      "execution_count": null,
      "id": "bdea445a0244dd8e",
      "metadata": {
        "ExecuteTime": {
          "end_time": "2024-04-07T19:30:55.735883Z",
          "start_time": "2024-04-07T19:30:55.716884Z"
        },
        "id": "bdea445a0244dd8e",
        "jupyter": {
          "outputs_hidden": false
        },
        "outputId": "e39637ba-0427-4c6c-9bdd-fa1ab802ec7f"
      },
      "outputs": [
        {
          "data": {
            "text/html": [
              "<div>\n",
              "<style scoped>\n",
              "    .dataframe tbody tr th:only-of-type {\n",
              "        vertical-align: middle;\n",
              "    }\n",
              "\n",
              "    .dataframe tbody tr th {\n",
              "        vertical-align: top;\n",
              "    }\n",
              "\n",
              "    .dataframe thead th {\n",
              "        text-align: right;\n",
              "    }\n",
              "</style>\n",
              "<table border=\"1\" class=\"dataframe\">\n",
              "  <thead>\n",
              "    <tr style=\"text-align: right;\">\n",
              "      <th></th>\n",
              "      <th>name</th>\n",
              "      <th>price</th>\n",
              "      <th>brend</th>\n",
              "      <th>url</th>\n",
              "      <th>country</th>\n",
              "      <th>capacity</th>\n",
              "      <th>voltage</th>\n",
              "    </tr>\n",
              "  </thead>\n",
              "  <tbody>\n",
              "    <tr>\n",
              "      <th>0</th>\n",
              "      <td>Аккумулятор SF 1207, 7Ач, аккумуляторная батар...</td>\n",
              "      <td>758.00</td>\n",
              "      <td>Security Force</td>\n",
              "      <td>https://www.wildberries.ru/catalog/40724205/de...</td>\n",
              "      <td>Китай</td>\n",
              "      <td>7.00</td>\n",
              "      <td>12.00</td>\n",
              "    </tr>\n",
              "    <tr>\n",
              "      <th>1</th>\n",
              "      <td>Аккумулятор 12v 7ah акб agm 1207</td>\n",
              "      <td>1097.00</td>\n",
              "      <td>SKAT</td>\n",
              "      <td>https://www.wildberries.ru/catalog/149737382/d...</td>\n",
              "      <td>Китай</td>\n",
              "      <td>7.00</td>\n",
              "      <td>12.00</td>\n",
              "    </tr>\n",
              "    <tr>\n",
              "      <th>2</th>\n",
              "      <td>Аккумулятор Yellow VL 12-7.5 для детского элек...</td>\n",
              "      <td>1643.00</td>\n",
              "      <td>YELLOW</td>\n",
              "      <td>https://www.wildberries.ru/catalog/161312115/d...</td>\n",
              "      <td>Китай</td>\n",
              "      <td>7.50</td>\n",
              "      <td>12.00</td>\n",
              "    </tr>\n",
              "    <tr>\n",
              "      <th>3</th>\n",
              "      <td>Аккумулятор для ибп 12v 7 Ah F1/T1 осветительн...</td>\n",
              "      <td>959.00</td>\n",
              "      <td>Thomas</td>\n",
              "      <td>https://www.wildberries.ru/catalog/194125712/d...</td>\n",
              "      <td>Китай</td>\n",
              "      <td>7.00</td>\n",
              "      <td>12.00</td>\n",
              "    </tr>\n",
              "    <tr>\n",
              "      <th>4</th>\n",
              "      <td>Аккумулятор 12в 7ач GP-S 12-7</td>\n",
              "      <td>1179.00</td>\n",
              "      <td>ЭТК Энергия</td>\n",
              "      <td>https://www.wildberries.ru/catalog/216797039/d...</td>\n",
              "      <td>Китай</td>\n",
              "      <td>7.00</td>\n",
              "      <td>12.00</td>\n",
              "    </tr>\n",
              "  </tbody>\n",
              "</table>\n",
              "</div>"
            ],
            "text/plain": [
              "                                                name   price           brend  \\\n",
              "0  Аккумулятор SF 1207, 7Ач, аккумуляторная батар...  758.00  Security Force   \n",
              "1                   Аккумулятор 12v 7ah акб agm 1207 1097.00            SKAT   \n",
              "2  Аккумулятор Yellow VL 12-7.5 для детского элек... 1643.00          YELLOW   \n",
              "3  Аккумулятор для ибп 12v 7 Ah F1/T1 осветительн...  959.00          Thomas   \n",
              "4                      Аккумулятор 12в 7ач GP-S 12-7 1179.00     ЭТК Энергия   \n",
              "\n",
              "                                                 url country  capacity  \\\n",
              "0  https://www.wildberries.ru/catalog/40724205/de...   Китай      7.00   \n",
              "1  https://www.wildberries.ru/catalog/149737382/d...   Китай      7.00   \n",
              "2  https://www.wildberries.ru/catalog/161312115/d...   Китай      7.50   \n",
              "3  https://www.wildberries.ru/catalog/194125712/d...   Китай      7.00   \n",
              "4  https://www.wildberries.ru/catalog/216797039/d...   Китай      7.00   \n",
              "\n",
              "   voltage  \n",
              "0    12.00  \n",
              "1    12.00  \n",
              "2    12.00  \n",
              "3    12.00  \n",
              "4    12.00  "
            ]
          },
          "execution_count": 9,
          "metadata": {},
          "output_type": "execute_result"
        }
      ],
      "source": [
        "df = pd.DataFrame(acb_list)\n",
        "df.head()"
      ]
    },
    {
      "cell_type": "code",
      "execution_count": null,
      "id": "66a8be8be4590e0b",
      "metadata": {
        "ExecuteTime": {
          "end_time": "2024-04-07T19:34:45.641291Z",
          "start_time": "2024-04-07T19:34:45.616287Z"
        },
        "id": "66a8be8be4590e0b",
        "jupyter": {
          "outputs_hidden": false
        },
        "outputId": "6de0277b-3392-4431-cd55-b8e5931fde4d"
      },
      "outputs": [
        {
          "name": "stdout",
          "output_type": "stream",
          "text": [
            "<class 'pandas.core.frame.DataFrame'>\n",
            "RangeIndex: 970 entries, 0 to 969\n",
            "Data columns (total 7 columns):\n",
            " #   Column    Non-Null Count  Dtype  \n",
            "---  ------    --------------  -----  \n",
            " 0   name      970 non-null    object \n",
            " 1   price     970 non-null    float64\n",
            " 2   brend     970 non-null    object \n",
            " 3   url       970 non-null    object \n",
            " 4   country   830 non-null    object \n",
            " 5   capacity  836 non-null    float64\n",
            " 6   voltage   839 non-null    float64\n",
            "dtypes: float64(3), object(4)\n",
            "memory usage: 53.2+ KB\n"
          ]
        }
      ],
      "source": [
        "df.info()"
      ]
    },
    {
      "cell_type": "markdown",
      "id": "0c992e20-292a-41dc-b34d-9189d44787da",
      "metadata": {
        "id": "0c992e20-292a-41dc-b34d-9189d44787da"
      },
      "source": [
        "### Какие производители аккумуляторов для ИБП представлены на Wildberries"
      ]
    },
    {
      "cell_type": "code",
      "execution_count": null,
      "id": "6198963f-10f4-4610-8ab8-043733bcb536",
      "metadata": {
        "id": "6198963f-10f4-4610-8ab8-043733bcb536",
        "outputId": "1477a0e3-bb98-4c3b-9be4-bec6f917ffee"
      },
      "outputs": [
        {
          "data": {
            "text/plain": [
              "country\n",
              "Китай      779\n",
              "Вьетнам     40\n",
              "Тайвань      7\n",
              "Россия       4\n",
              "Name: count, dtype: int64"
            ]
          },
          "execution_count": 11,
          "metadata": {},
          "output_type": "execute_result"
        }
      ],
      "source": [
        "data = df['country'].value_counts()\n",
        "names = data.index\n",
        "values = data.values\n",
        "data"
      ]
    },
    {
      "cell_type": "code",
      "execution_count": null,
      "id": "3868dae0-fbd4-4ad8-9fd6-de49709c8a40",
      "metadata": {
        "id": "3868dae0-fbd4-4ad8-9fd6-de49709c8a40",
        "outputId": "d69bbfe5-821a-4d71-f204-6f91b04045eb"
      },
      "outputs": [
        {
          "data": {
            "image/png": "[encoded data removed]",
            "text/plain": [
              "<Figure size 640x480 with 1 Axes>"
            ]
          },
          "metadata": {},
          "output_type": "display_data"
        }
      ],
      "source": [
        "plt.pie(values, autopct='%.1f%%', labels=names)\n",
        "plt.show()"
      ]
    },
    {
      "cell_type": "markdown",
      "id": "2365cf19-8905-4714-9cfb-119835bf3422",
      "metadata": {
        "id": "2365cf19-8905-4714-9cfb-119835bf3422"
      },
      "source": [
        "### Минимальная, максимальная и средняя цена аккумулятора в зависимости от его ёмкости"
      ]
    },
    {
      "cell_type": "code",
      "execution_count": null,
      "id": "f93d02632b1a26b4",
      "metadata": {
        "id": "f93d02632b1a26b4",
        "jupyter": {
          "outputs_hidden": false
        },
        "outputId": "c3dcd68f-908a-4a2b-a9c2-4285ebfaa771"
      },
      "outputs": [
        {
          "data": {
            "text/html": [
              "<div>\n",
              "<style scoped>\n",
              "    .dataframe tbody tr th:only-of-type {\n",
              "        vertical-align: middle;\n",
              "    }\n",
              "\n",
              "    .dataframe tbody tr th {\n",
              "        vertical-align: top;\n",
              "    }\n",
              "\n",
              "    .dataframe thead tr th {\n",
              "        text-align: left;\n",
              "    }\n",
              "\n",
              "    .dataframe thead tr:last-of-type th {\n",
              "        text-align: right;\n",
              "    }\n",
              "</style>\n",
              "<table border=\"1\" class=\"dataframe\">\n",
              "  <thead>\n",
              "    <tr>\n",
              "      <th></th>\n",
              "      <th colspan=\"3\" halign=\"left\">price</th>\n",
              "    </tr>\n",
              "    <tr>\n",
              "      <th></th>\n",
              "      <th>min</th>\n",
              "      <th>mean</th>\n",
              "      <th>max</th>\n",
              "    </tr>\n",
              "    <tr>\n",
              "      <th>capacity</th>\n",
              "      <th></th>\n",
              "      <th></th>\n",
              "      <th></th>\n",
              "    </tr>\n",
              "  </thead>\n",
              "  <tbody>\n",
              "    <tr>\n",
              "      <th>0.80</th>\n",
              "      <td>550.00</td>\n",
              "      <td>890.44</td>\n",
              "      <td>1035.00</td>\n",
              "    </tr>\n",
              "    <tr>\n",
              "      <th>1.20</th>\n",
              "      <td>430.00</td>\n",
              "      <td>670.19</td>\n",
              "      <td>1036.00</td>\n",
              "    </tr>\n",
              "    <tr>\n",
              "      <th>1.30</th>\n",
              "      <td>577.00</td>\n",
              "      <td>790.30</td>\n",
              "      <td>1286.00</td>\n",
              "    </tr>\n",
              "    <tr>\n",
              "      <th>2.20</th>\n",
              "      <td>594.00</td>\n",
              "      <td>875.75</td>\n",
              "      <td>1239.00</td>\n",
              "    </tr>\n",
              "    <tr>\n",
              "      <th>2.30</th>\n",
              "      <td>670.00</td>\n",
              "      <td>842.73</td>\n",
              "      <td>1565.00</td>\n",
              "    </tr>\n",
              "    <tr>\n",
              "      <th>2.80</th>\n",
              "      <td>776.00</td>\n",
              "      <td>784.00</td>\n",
              "      <td>792.00</td>\n",
              "    </tr>\n",
              "    <tr>\n",
              "      <th>2.90</th>\n",
              "      <td>1023.00</td>\n",
              "      <td>1023.00</td>\n",
              "      <td>1023.00</td>\n",
              "    </tr>\n",
              "    <tr>\n",
              "      <th>3.20</th>\n",
              "      <td>774.00</td>\n",
              "      <td>1227.87</td>\n",
              "      <td>1780.00</td>\n",
              "    </tr>\n",
              "    <tr>\n",
              "      <th>3.30</th>\n",
              "      <td>1228.00</td>\n",
              "      <td>1351.00</td>\n",
              "      <td>1474.00</td>\n",
              "    </tr>\n",
              "    <tr>\n",
              "      <th>4.50</th>\n",
              "      <td>532.00</td>\n",
              "      <td>1238.20</td>\n",
              "      <td>3184.00</td>\n",
              "    </tr>\n",
              "    <tr>\n",
              "      <th>5.00</th>\n",
              "      <td>795.00</td>\n",
              "      <td>1643.71</td>\n",
              "      <td>4100.00</td>\n",
              "    </tr>\n",
              "    <tr>\n",
              "      <th>5.40</th>\n",
              "      <td>1154.00</td>\n",
              "      <td>1205.50</td>\n",
              "      <td>1257.00</td>\n",
              "    </tr>\n",
              "    <tr>\n",
              "      <th>5.50</th>\n",
              "      <td>2004.00</td>\n",
              "      <td>2076.50</td>\n",
              "      <td>2149.00</td>\n",
              "    </tr>\n",
              "    <tr>\n",
              "      <th>5.80</th>\n",
              "      <td>1164.00</td>\n",
              "      <td>1829.00</td>\n",
              "      <td>2303.00</td>\n",
              "    </tr>\n",
              "    <tr>\n",
              "      <th>6.00</th>\n",
              "      <td>1228.00</td>\n",
              "      <td>2061.71</td>\n",
              "      <td>2750.00</td>\n",
              "    </tr>\n",
              "    <tr>\n",
              "      <th>7.00</th>\n",
              "      <td>701.00</td>\n",
              "      <td>1311.90</td>\n",
              "      <td>4684.00</td>\n",
              "    </tr>\n",
              "    <tr>\n",
              "      <th>7.20</th>\n",
              "      <td>636.00</td>\n",
              "      <td>1723.51</td>\n",
              "      <td>4338.00</td>\n",
              "    </tr>\n",
              "    <tr>\n",
              "      <th>7.50</th>\n",
              "      <td>1215.00</td>\n",
              "      <td>1865.50</td>\n",
              "      <td>3170.00</td>\n",
              "    </tr>\n",
              "    <tr>\n",
              "      <th>8.00</th>\n",
              "      <td>574.00</td>\n",
              "      <td>1779.50</td>\n",
              "      <td>3237.00</td>\n",
              "    </tr>\n",
              "    <tr>\n",
              "      <th>8.60</th>\n",
              "      <td>1755.00</td>\n",
              "      <td>1755.00</td>\n",
              "      <td>1755.00</td>\n",
              "    </tr>\n",
              "    <tr>\n",
              "      <th>9.00</th>\n",
              "      <td>1106.00</td>\n",
              "      <td>2022.26</td>\n",
              "      <td>4902.00</td>\n",
              "    </tr>\n",
              "    <tr>\n",
              "      <th>10.00</th>\n",
              "      <td>1134.00</td>\n",
              "      <td>1134.00</td>\n",
              "      <td>1134.00</td>\n",
              "    </tr>\n",
              "    <tr>\n",
              "      <th>12.00</th>\n",
              "      <td>601.00</td>\n",
              "      <td>2660.12</td>\n",
              "      <td>7257.00</td>\n",
              "    </tr>\n",
              "    <tr>\n",
              "      <th>13.00</th>\n",
              "      <td>566.00</td>\n",
              "      <td>1396.00</td>\n",
              "      <td>2766.00</td>\n",
              "    </tr>\n",
              "    <tr>\n",
              "      <th>14.00</th>\n",
              "      <td>2040.00</td>\n",
              "      <td>2040.00</td>\n",
              "      <td>2040.00</td>\n",
              "    </tr>\n",
              "    <tr>\n",
              "      <th>15.00</th>\n",
              "      <td>2268.00</td>\n",
              "      <td>4229.83</td>\n",
              "      <td>6413.00</td>\n",
              "    </tr>\n",
              "    <tr>\n",
              "      <th>17.00</th>\n",
              "      <td>1973.00</td>\n",
              "      <td>4493.83</td>\n",
              "      <td>9487.00</td>\n",
              "    </tr>\n",
              "    <tr>\n",
              "      <th>18.00</th>\n",
              "      <td>1972.00</td>\n",
              "      <td>3532.81</td>\n",
              "      <td>8068.00</td>\n",
              "    </tr>\n",
              "    <tr>\n",
              "      <th>20.00</th>\n",
              "      <td>2701.00</td>\n",
              "      <td>5257.67</td>\n",
              "      <td>7801.00</td>\n",
              "    </tr>\n",
              "    <tr>\n",
              "      <th>22.00</th>\n",
              "      <td>641.00</td>\n",
              "      <td>1750.70</td>\n",
              "      <td>4630.00</td>\n",
              "    </tr>\n",
              "    <tr>\n",
              "      <th>23.00</th>\n",
              "      <td>700.00</td>\n",
              "      <td>700.00</td>\n",
              "      <td>700.00</td>\n",
              "    </tr>\n",
              "    <tr>\n",
              "      <th>24.00</th>\n",
              "      <td>10164.00</td>\n",
              "      <td>10164.00</td>\n",
              "      <td>10164.00</td>\n",
              "    </tr>\n",
              "    <tr>\n",
              "      <th>26.00</th>\n",
              "      <td>2695.00</td>\n",
              "      <td>5478.86</td>\n",
              "      <td>10537.00</td>\n",
              "    </tr>\n",
              "    <tr>\n",
              "      <th>28.00</th>\n",
              "      <td>1986.00</td>\n",
              "      <td>4606.55</td>\n",
              "      <td>11212.00</td>\n",
              "    </tr>\n",
              "    <tr>\n",
              "      <th>30.00</th>\n",
              "      <td>11212.00</td>\n",
              "      <td>11212.00</td>\n",
              "      <td>11212.00</td>\n",
              "    </tr>\n",
              "    <tr>\n",
              "      <th>32.00</th>\n",
              "      <td>847.00</td>\n",
              "      <td>847.00</td>\n",
              "      <td>847.00</td>\n",
              "    </tr>\n",
              "    <tr>\n",
              "      <th>33.00</th>\n",
              "      <td>1363.00</td>\n",
              "      <td>7514.86</td>\n",
              "      <td>14392.00</td>\n",
              "    </tr>\n",
              "    <tr>\n",
              "      <th>34.00</th>\n",
              "      <td>11696.00</td>\n",
              "      <td>11696.00</td>\n",
              "      <td>11696.00</td>\n",
              "    </tr>\n",
              "    <tr>\n",
              "      <th>35.00</th>\n",
              "      <td>626.00</td>\n",
              "      <td>626.00</td>\n",
              "      <td>626.00</td>\n",
              "    </tr>\n",
              "    <tr>\n",
              "      <th>36.00</th>\n",
              "      <td>5934.00</td>\n",
              "      <td>5934.00</td>\n",
              "      <td>5934.00</td>\n",
              "    </tr>\n",
              "    <tr>\n",
              "      <th>38.00</th>\n",
              "      <td>7501.00</td>\n",
              "      <td>7506.00</td>\n",
              "      <td>7511.00</td>\n",
              "    </tr>\n",
              "    <tr>\n",
              "      <th>40.00</th>\n",
              "      <td>4174.00</td>\n",
              "      <td>7981.55</td>\n",
              "      <td>15784.00</td>\n",
              "    </tr>\n",
              "    <tr>\n",
              "      <th>45.00</th>\n",
              "      <td>915.00</td>\n",
              "      <td>8684.90</td>\n",
              "      <td>17087.00</td>\n",
              "    </tr>\n",
              "    <tr>\n",
              "      <th>50.00</th>\n",
              "      <td>7288.00</td>\n",
              "      <td>13553.17</td>\n",
              "      <td>17213.00</td>\n",
              "    </tr>\n",
              "    <tr>\n",
              "      <th>55.00</th>\n",
              "      <td>1009.00</td>\n",
              "      <td>14616.90</td>\n",
              "      <td>22349.00</td>\n",
              "    </tr>\n",
              "    <tr>\n",
              "      <th>60.00</th>\n",
              "      <td>8817.00</td>\n",
              "      <td>8817.00</td>\n",
              "      <td>8817.00</td>\n",
              "    </tr>\n",
              "    <tr>\n",
              "      <th>65.00</th>\n",
              "      <td>6188.00</td>\n",
              "      <td>14867.47</td>\n",
              "      <td>25857.00</td>\n",
              "    </tr>\n",
              "    <tr>\n",
              "      <th>70.00</th>\n",
              "      <td>13545.00</td>\n",
              "      <td>13545.00</td>\n",
              "      <td>13545.00</td>\n",
              "    </tr>\n",
              "    <tr>\n",
              "      <th>72.00</th>\n",
              "      <td>795.00</td>\n",
              "      <td>1675.45</td>\n",
              "      <td>3523.00</td>\n",
              "    </tr>\n",
              "    <tr>\n",
              "      <th>75.00</th>\n",
              "      <td>1584.00</td>\n",
              "      <td>16827.29</td>\n",
              "      <td>31196.00</td>\n",
              "    </tr>\n",
              "    <tr>\n",
              "      <th>80.00</th>\n",
              "      <td>9596.00</td>\n",
              "      <td>12153.33</td>\n",
              "      <td>17072.00</td>\n",
              "    </tr>\n",
              "    <tr>\n",
              "      <th>90.00</th>\n",
              "      <td>14728.00</td>\n",
              "      <td>14728.00</td>\n",
              "      <td>14728.00</td>\n",
              "    </tr>\n",
              "    <tr>\n",
              "      <th>100.00</th>\n",
              "      <td>14431.00</td>\n",
              "      <td>16425.50</td>\n",
              "      <td>21799.00</td>\n",
              "    </tr>\n",
              "    <tr>\n",
              "      <th>120.00</th>\n",
              "      <td>16210.00</td>\n",
              "      <td>16375.50</td>\n",
              "      <td>16541.00</td>\n",
              "    </tr>\n",
              "    <tr>\n",
              "      <th>150.00</th>\n",
              "      <td>19786.00</td>\n",
              "      <td>19786.00</td>\n",
              "      <td>19786.00</td>\n",
              "    </tr>\n",
              "    <tr>\n",
              "      <th>200.00</th>\n",
              "      <td>26710.00</td>\n",
              "      <td>30122.00</td>\n",
              "      <td>33534.00</td>\n",
              "    </tr>\n",
              "    <tr>\n",
              "      <th>5000.00</th>\n",
              "      <td>1474.00</td>\n",
              "      <td>1474.00</td>\n",
              "      <td>1474.00</td>\n",
              "    </tr>\n",
              "    <tr>\n",
              "      <th>40000.00</th>\n",
              "      <td>11113.00</td>\n",
              "      <td>11113.00</td>\n",
              "      <td>11113.00</td>\n",
              "    </tr>\n",
              "  </tbody>\n",
              "</table>\n",
              "</div>"
            ],
            "text/plain": [
              "            price                  \n",
              "              min     mean      max\n",
              "capacity                           \n",
              "0.80       550.00   890.44  1035.00\n",
              "1.20       430.00   670.19  1036.00\n",
              "1.30       577.00   790.30  1286.00\n",
              "2.20       594.00   875.75  1239.00\n",
              "2.30       670.00   842.73  1565.00\n",
              "2.80       776.00   784.00   792.00\n",
              "2.90      1023.00  1023.00  1023.00\n",
              "3.20       774.00  1227.87  1780.00\n",
              "3.30      1228.00  1351.00  1474.00\n",
              "4.50       532.00  1238.20  3184.00\n",
              "5.00       795.00  1643.71  4100.00\n",
              "5.40      1154.00  1205.50  1257.00\n",
              "5.50      2004.00  2076.50  2149.00\n",
              "5.80      1164.00  1829.00  2303.00\n",
              "6.00      1228.00  2061.71  2750.00\n",
              "7.00       701.00  1311.90  4684.00\n",
              "7.20       636.00  1723.51  4338.00\n",
              "7.50      1215.00  1865.50  3170.00\n",
              "8.00       574.00  1779.50  3237.00\n",
              "8.60      1755.00  1755.00  1755.00\n",
              "9.00      1106.00  2022.26  4902.00\n",
              "10.00     1134.00  1134.00  1134.00\n",
              "12.00      601.00  2660.12  7257.00\n",
              "13.00      566.00  1396.00  2766.00\n",
              "14.00     2040.00  2040.00  2040.00\n",
              "15.00     2268.00  4229.83  6413.00\n",
              "17.00     1973.00  4493.83  9487.00\n",
              "18.00     1972.00  3532.81  8068.00\n",
              "20.00     2701.00  5257.67  7801.00\n",
              "22.00      641.00  1750.70  4630.00\n",
              "23.00      700.00   700.00   700.00\n",
              "24.00    10164.00 10164.00 10164.00\n",
              "26.00     2695.00  5478.86 10537.00\n",
              "28.00     1986.00  4606.55 11212.00\n",
              "30.00    11212.00 11212.00 11212.00\n",
              "32.00      847.00   847.00   847.00\n",
              "33.00     1363.00  7514.86 14392.00\n",
              "34.00    11696.00 11696.00 11696.00\n",
              "35.00      626.00   626.00   626.00\n",
              "36.00     5934.00  5934.00  5934.00\n",
              "38.00     7501.00  7506.00  7511.00\n",
              "40.00     4174.00  7981.55 15784.00\n",
              "45.00      915.00  8684.90 17087.00\n",
              "50.00     7288.00 13553.17 17213.00\n",
              "55.00     1009.00 14616.90 22349.00\n",
              "60.00     8817.00  8817.00  8817.00\n",
              "65.00     6188.00 14867.47 25857.00\n",
              "70.00    13545.00 13545.00 13545.00\n",
              "72.00      795.00  1675.45  3523.00\n",
              "75.00     1584.00 16827.29 31196.00\n",
              "80.00     9596.00 12153.33 17072.00\n",
              "90.00    14728.00 14728.00 14728.00\n",
              "100.00   14431.00 16425.50 21799.00\n",
              "120.00   16210.00 16375.50 16541.00\n",
              "150.00   19786.00 19786.00 19786.00\n",
              "200.00   26710.00 30122.00 33534.00\n",
              "5000.00   1474.00  1474.00  1474.00\n",
              "40000.00 11113.00 11113.00 11113.00"
            ]
          },
          "execution_count": 13,
          "metadata": {},
          "output_type": "execute_result"
        }
      ],
      "source": [
        "df.groupby('capacity').agg({'price': ['min', 'mean', 'max']})"
      ]
    },
    {
      "cell_type": "markdown",
      "id": "cde8b4ac-44b5-424d-9a55-17501a5d2218",
      "metadata": {
        "id": "cde8b4ac-44b5-424d-9a55-17501a5d2218"
      },
      "source": [
        "### Топ 10 популярных компаний"
      ]
    },
    {
      "cell_type": "code",
      "execution_count": null,
      "id": "1a829758-8ded-439e-bd5b-2bf87e120df4",
      "metadata": {
        "id": "1a829758-8ded-439e-bd5b-2bf87e120df4",
        "outputId": "f0e2d697-25a2-444b-c3cc-52f4480de336"
      },
      "outputs": [
        {
          "data": {
            "text/plain": [
              "brend\n",
              "DELTA BATTERY       195\n",
              "General Security     66\n",
              "Kiper Power          54\n",
              "LEOCH                45\n",
              "Alfa Battery         39\n",
              "NPP                  36\n",
              "CSB                  36\n",
              "Security Force       33\n",
              "Sunways              28\n",
              "security power       27\n",
              "Name: count, dtype: int64"
            ]
          },
          "execution_count": 14,
          "metadata": {},
          "output_type": "execute_result"
        }
      ],
      "source": [
        "data = df['brend'].value_counts()\n",
        "names = data.index\n",
        "values = data.values\n",
        "data.head(10)"
      ]
    },
    {
      "cell_type": "markdown",
      "id": "cb35c7d0-1a94-45a5-a5c6-ee8fb0acab46",
      "metadata": {
        "id": "cb35c7d0-1a94-45a5-a5c6-ee8fb0acab46"
      },
      "source": [
        "### Запишем полученные данные в БД MongoDB"
      ]
    },
    {
      "cell_type": "code",
      "execution_count": null,
      "id": "c3ed3d4d-fd87-419f-ace2-11e9d3eedebf",
      "metadata": {
        "id": "c3ed3d4d-fd87-419f-ace2-11e9d3eedebf"
      },
      "outputs": [],
      "source": [
        "from pymongo import MongoClient"
      ]
    },
    {
      "cell_type": "code",
      "execution_count": null,
      "id": "7fa3b599-48f3-428b-a8f0-9ed533fa6de2",
      "metadata": {
        "id": "7fa3b599-48f3-428b-a8f0-9ed533fa6de2"
      },
      "outputs": [],
      "source": [
        "# Подключение к серверу MongoDB\n",
        "client = MongoClient('mongodb://localhost:27017/')\n",
        "# Выбор базы данных и коллекции\n",
        "db = client['acb']\n",
        "collection = db['acb_12v']"
      ]
    },
    {
      "cell_type": "code",
      "execution_count": null,
      "id": "35c3649b-1cf1-485d-be1a-dd4e747f7360",
      "metadata": {
        "id": "35c3649b-1cf1-485d-be1a-dd4e747f7360",
        "outputId": "c269a71d-4e08-431b-bcb2-445f081fa276"
      },
      "outputs": [
        {
          "data": {
            "text/plain": [
              "InsertManyResult([ObjectId('6613436589314a54f728e70d'), ObjectId('6613436589314a54f728e70e'), ObjectId('6613436589314a54f728e70f'), ObjectId('6613436589314a54f728e710'), ObjectId('6613436589314a54f728e711'), ObjectId('6613436589314a54f728e712'), ObjectId('6613436589314a54f728e713'), ObjectId('6613436589314a54f728e714'), ObjectId('6613436589314a54f728e715'), ObjectId('6613436589314a54f728e716'), ObjectId('6613436589314a54f728e717'), ObjectId('6613436589314a54f728e718'), ObjectId('6613436589314a54f728e719'), ObjectId('6613436589314a54f728e71a'), ObjectId('6613436589314a54f728e71b'), ObjectId('6613436589314a54f728e71c'), ObjectId('6613436589314a54f728e71d'), ObjectId('6613436589314a54f728e71e'), ObjectId('6613436589314a54f728e71f'), ObjectId('6613436589314a54f728e720'), ObjectId('6613436589314a54f728e721'), ObjectId('6613436589314a54f728e722'), ObjectId('6613436589314a54f728e723'), ObjectId('6613436589314a54f728e724'), ObjectId('6613436589314a54f728e725'), ObjectId('6613436589314a54f728e726'), ObjectId('6613436589314a54f728e727'), ObjectId('6613436589314a54f728e728'), ObjectId('6613436589314a54f728e729'), ObjectId('6613436589314a54f728e72a'), ObjectId('6613436589314a54f728e72b'), ObjectId('6613436589314a54f728e72c'), ObjectId('6613436589314a54f728e72d'), ObjectId('6613436589314a54f728e72e'), ObjectId('6613436589314a54f728e72f'), ObjectId('6613436589314a54f728e730'), ObjectId('6613436589314a54f728e731'), ObjectId('6613436589314a54f728e732'), ObjectId('6613436589314a54f728e733'), ObjectId('6613436589314a54f728e734'), ObjectId('6613436589314a54f728e735'), ObjectId('6613436589314a54f728e736'), ObjectId('6613436589314a54f728e737'), ObjectId('6613436589314a54f728e738'), ObjectId('6613436589314a54f728e739'), ObjectId('6613436589314a54f728e73a'), ObjectId('6613436589314a54f728e73b'), ObjectId('6613436589314a54f728e73c'), ObjectId('6613436589314a54f728e73d'), ObjectId('6613436589314a54f728e73e'), ObjectId('6613436589314a54f728e73f'), ObjectId('6613436589314a54f728e740'), ObjectId('6613436589314a54f728e741'), ObjectId('6613436589314a54f728e742'), ObjectId('6613436589314a54f728e743'), ObjectId('6613436589314a54f728e744'), ObjectId('6613436589314a54f728e745'), ObjectId('6613436589314a54f728e746'), ObjectId('6613436589314a54f728e747'), ObjectId('6613436589314a54f728e748'), ObjectId('6613436589314a54f728e749'), ObjectId('6613436589314a54f728e74a'), ObjectId('6613436589314a54f728e74b'), ObjectId('6613436589314a54f728e74c'), ObjectId('6613436589314a54f728e74d'), ObjectId('6613436589314a54f728e74e'), ObjectId('6613436589314a54f728e74f'), ObjectId('6613436589314a54f728e750'), ObjectId('6613436589314a54f728e751'), ObjectId('6613436589314a54f728e752'), ObjectId('6613436589314a54f728e753'), ObjectId('6613436589314a54f728e754'), ObjectId('6613436589314a54f728e755'), ObjectId('6613436589314a54f728e756'), ObjectId('6613436589314a54f728e757'), ObjectId('6613436589314a54f728e758'), ObjectId('6613436589314a54f728e759'), ObjectId('6613436589314a54f728e75a'), ObjectId('6613436589314a54f728e75b'), ObjectId('6613436589314a54f728e75c'), ObjectId('6613436589314a54f728e75d'), ObjectId('6613436589314a54f728e75e'), ObjectId('6613436589314a54f728e75f'), ObjectId('6613436589314a54f728e760'), ObjectId('6613436589314a54f728e761'), ObjectId('6613436589314a54f728e762'), ObjectId('6613436589314a54f728e763'), ObjectId('6613436589314a54f728e764'), ObjectId('6613436589314a54f728e765'), ObjectId('6613436589314a54f728e766'), ObjectId('6613436589314a54f728e767'), ObjectId('6613436589314a54f728e768'), ObjectId('6613436589314a54f728e769'), ObjectId('6613436589314a54f728e76a'), ObjectId('6613436589314a54f728e76b'), ObjectId('6613436589314a54f728e76c'), ObjectId('6613436589314a54f728e76d'), ObjectId('6613436589314a54f728e76e'), ObjectId('6613436589314a54f728e76f'), ObjectId('6613436589314a54f728e770'), ObjectId('6613436589314a54f728e771'), ObjectId('6613436589314a54f728e772'), ObjectId('6613436589314a54f728e773'), ObjectId('6613436589314a54f728e774'), ObjectId('6613436589314a54f728e775'), ObjectId('6613436589314a54f728e776'), ObjectId('6613436589314a54f728e777'), ObjectId('6613436589314a54f728e778'), ObjectId('6613436589314a54f728e779'), ObjectId('6613436589314a54f728e77a'), ObjectId('6613436589314a54f728e77b'), ObjectId('6613436589314a54f728e77c'), ObjectId('6613436589314a54f728e77d'), ObjectId('6613436589314a54f728e77e'), ObjectId('6613436589314a54f728e77f'), ObjectId('6613436589314a54f728e780'), ObjectId('6613436589314a54f728e781'), ObjectId('6613436589314a54f728e782'), ObjectId('6613436589314a54f728e783'), ObjectId('6613436589314a54f728e784'), ObjectId('6613436589314a54f728e785'), ObjectId('6613436589314a54f728e786'), ObjectId('6613436589314a54f728e787'), ObjectId('6613436589314a54f728e788'), ObjectId('6613436589314a54f728e789'), ObjectId('6613436589314a54f728e78a'), ObjectId('6613436589314a54f728e78b'), ObjectId('6613436589314a54f728e78c'), ObjectId('6613436589314a54f728e78d'), ObjectId('6613436589314a54f728e78e'), ObjectId('6613436589314a54f728e78f'), ObjectId('6613436589314a54f728e790'), ObjectId('6613436589314a54f728e791'), ObjectId('6613436589314a54f728e792'), ObjectId('6613436589314a54f728e793'), ObjectId('6613436589314a54f728e794'), ObjectId('6613436589314a54f728e795'), ObjectId('6613436589314a54f728e796'), ObjectId('6613436589314a54f728e797'), ObjectId('6613436589314a54f728e798'), ObjectId('6613436589314a54f728e799'), ObjectId('6613436589314a54f728e79a'), ObjectId('6613436589314a54f728e79b'), ObjectId('6613436589314a54f728e79c'), ObjectId('6613436589314a54f728e79d'), ObjectId('6613436589314a54f728e79e'), ObjectId('6613436589314a54f728e79f'), ObjectId('6613436589314a54f728e7a0'), ObjectId('6613436589314a54f728e7a1'), ObjectId('6613436589314a54f728e7a2'), ObjectId('6613436589314a54f728e7a3'), ObjectId('6613436589314a54f728e7a4'), ObjectId('6613436589314a54f728e7a5'), ObjectId('6613436589314a54f728e7a6'), ObjectId('6613436589314a54f728e7a7'), ObjectId('6613436589314a54f728e7a8'), ObjectId('6613436589314a54f728e7a9'), ObjectId('6613436589314a54f728e7aa'), ObjectId('6613436589314a54f728e7ab'), ObjectId('6613436589314a54f728e7ac'), ObjectId('6613436589314a54f728e7ad'), ObjectId('6613436589314a54f728e7ae'), ObjectId('6613436589314a54f728e7af'), ObjectId('6613436589314a54f728e7b0'), ObjectId('6613436589314a54f728e7b1'), ObjectId('6613436589314a54f728e7b2'), ObjectId('6613436589314a54f728e7b3'), ObjectId('6613436589314a54f728e7b4'), ObjectId('6613436589314a54f728e7b5'), ObjectId('6613436589314a54f728e7b6'), ObjectId('6613436589314a54f728e7b7'), ObjectId('6613436589314a54f728e7b8'), ObjectId('6613436589314a54f728e7b9'), ObjectId('6613436589314a54f728e7ba'), ObjectId('6613436589314a54f728e7bb'), ObjectId('6613436589314a54f728e7bc'), ObjectId('6613436589314a54f728e7bd'), ObjectId('6613436589314a54f728e7be'), ObjectId('6613436589314a54f728e7bf'), ObjectId('6613436589314a54f728e7c0'), ObjectId('6613436589314a54f728e7c1'), ObjectId('6613436589314a54f728e7c2'), ObjectId('6613436589314a54f728e7c3'), ObjectId('6613436589314a54f728e7c4'), ObjectId('6613436589314a54f728e7c5'), ObjectId('6613436589314a54f728e7c6'), ObjectId('6613436589314a54f728e7c7'), ObjectId('6613436589314a54f728e7c8'), ObjectId('6613436589314a54f728e7c9'), ObjectId('6613436589314a54f728e7ca'), ObjectId('6613436589314a54f728e7cb'), ObjectId('6613436589314a54f728e7cc'), ObjectId('6613436589314a54f728e7cd'), ObjectId('6613436589314a54f728e7ce'), ObjectId('6613436589314a54f728e7cf'), ObjectId('6613436589314a54f728e7d0'), ObjectId('6613436589314a54f728e7d1'), ObjectId('6613436589314a54f728e7d2'), ObjectId('6613436589314a54f728e7d3'), ObjectId('6613436589314a54f728e7d4'), ObjectId('6613436589314a54f728e7d5'), ObjectId('6613436589314a54f728e7d6'), ObjectId('6613436589314a54f728e7d7'), ObjectId('6613436589314a54f728e7d8'), ObjectId('6613436589314a54f728e7d9'), ObjectId('6613436589314a54f728e7da'), ObjectId('6613436589314a54f728e7db'), ObjectId('6613436589314a54f728e7dc'), ObjectId('6613436589314a54f728e7dd'), ObjectId('6613436589314a54f728e7de'), ObjectId('6613436589314a54f728e7df'), ObjectId('6613436589314a54f728e7e0'), ObjectId('6613436589314a54f728e7e1'), ObjectId('6613436589314a54f728e7e2'), ObjectId('6613436589314a54f728e7e3'), ObjectId('6613436589314a54f728e7e4'), ObjectId('6613436589314a54f728e7e5'), ObjectId('6613436589314a54f728e7e6'), ObjectId('6613436589314a54f728e7e7'), ObjectId('6613436589314a54f728e7e8'), ObjectId('6613436589314a54f728e7e9'), ObjectId('6613436589314a54f728e7ea'), ObjectId('6613436589314a54f728e7eb'), ObjectId('6613436589314a54f728e7ec'), ObjectId('6613436589314a54f728e7ed'), ObjectId('6613436589314a54f728e7ee'), ObjectId('6613436589314a54f728e7ef'), ObjectId('6613436589314a54f728e7f0'), ObjectId('6613436589314a54f728e7f1'), ObjectId('6613436589314a54f728e7f2'), ObjectId('6613436589314a54f728e7f3'), ObjectId('6613436589314a54f728e7f4'), ObjectId('6613436589314a54f728e7f5'), ObjectId('6613436589314a54f728e7f6'), ObjectId('6613436589314a54f728e7f7'), ObjectId('6613436589314a54f728e7f8'), ObjectId('6613436589314a54f728e7f9'), ObjectId('6613436589314a54f728e7fa'), ObjectId('6613436589314a54f728e7fb'), ObjectId('6613436589314a54f728e7fc'), ObjectId('6613436589314a54f728e7fd'), ObjectId('6613436589314a54f728e7fe'), ObjectId('6613436589314a54f728e7ff'), ObjectId('6613436589314a54f728e800'), ObjectId('6613436589314a54f728e801'), ObjectId('6613436589314a54f728e802'), ObjectId('6613436589314a54f728e803'), ObjectId('6613436589314a54f728e804'), ObjectId('6613436589314a54f728e805'), ObjectId('6613436589314a54f728e806'), ObjectId('6613436589314a54f728e807'), ObjectId('6613436589314a54f728e808'), ObjectId('6613436589314a54f728e809'), ObjectId('6613436589314a54f728e80a'), ObjectId('6613436589314a54f728e80b'), ObjectId('6613436589314a54f728e80c'), ObjectId('6613436589314a54f728e80d'), ObjectId('6613436589314a54f728e80e'), ObjectId('6613436589314a54f728e80f'), ObjectId('6613436589314a54f728e810'), ObjectId('6613436589314a54f728e811'), ObjectId('6613436589314a54f728e812'), ObjectId('6613436589314a54f728e813'), ObjectId('6613436589314a54f728e814'), ObjectId('6613436589314a54f728e815'), ObjectId('6613436589314a54f728e816'), ObjectId('6613436589314a54f728e817'), ObjectId('6613436589314a54f728e818'), ObjectId('6613436589314a54f728e819'), ObjectId('6613436589314a54f728e81a'), ObjectId('6613436589314a54f728e81b'), ObjectId('6613436589314a54f728e81c'), ObjectId('6613436589314a54f728e81d'), ObjectId('6613436589314a54f728e81e'), ObjectId('6613436589314a54f728e81f'), ObjectId('6613436589314a54f728e820'), ObjectId('6613436589314a54f728e821'), ObjectId('6613436589314a54f728e822'), ObjectId('6613436589314a54f728e823'), ObjectId('6613436589314a54f728e824'), ObjectId('6613436589314a54f728e825'), ObjectId('6613436589314a54f728e826'), ObjectId('6613436589314a54f728e827'), ObjectId('6613436589314a54f728e828'), ObjectId('6613436589314a54f728e829'), ObjectId('6613436589314a54f728e82a'), ObjectId('6613436589314a54f728e82b'), ObjectId('6613436589314a54f728e82c'), ObjectId('6613436589314a54f728e82d'), ObjectId('6613436589314a54f728e82e'), ObjectId('6613436589314a54f728e82f'), ObjectId('6613436589314a54f728e830'), ObjectId('6613436589314a54f728e831'), ObjectId('6613436589314a54f728e832'), ObjectId('6613436589314a54f728e833'), ObjectId('6613436589314a54f728e834'), ObjectId('6613436589314a54f728e835'), ObjectId('6613436589314a54f728e836'), ObjectId('6613436589314a54f728e837'), ObjectId('6613436589314a54f728e838'), ObjectId('6613436589314a54f728e839'), ObjectId('6613436589314a54f728e83a'), ObjectId('6613436589314a54f728e83b'), ObjectId('6613436589314a54f728e83c'), ObjectId('6613436589314a54f728e83d'), ObjectId('6613436589314a54f728e83e'), ObjectId('6613436589314a54f728e83f'), ObjectId('6613436589314a54f728e840'), ObjectId('6613436589314a54f728e841'), ObjectId('6613436589314a54f728e842'), ObjectId('6613436589314a54f728e843'), ObjectId('6613436589314a54f728e844'), ObjectId('6613436589314a54f728e845'), ObjectId('6613436589314a54f728e846'), ObjectId('6613436589314a54f728e847'), ObjectId('6613436589314a54f728e848'), ObjectId('6613436589314a54f728e849'), ObjectId('6613436589314a54f728e84a'), ObjectId('6613436589314a54f728e84b'), ObjectId('6613436589314a54f728e84c'), ObjectId('6613436589314a54f728e84d'), ObjectId('6613436589314a54f728e84e'), ObjectId('6613436589314a54f728e84f'), ObjectId('6613436589314a54f728e850'), ObjectId('6613436589314a54f728e851'), ObjectId('6613436589314a54f728e852'), ObjectId('6613436589314a54f728e853'), ObjectId('6613436589314a54f728e854'), ObjectId('6613436589314a54f728e855'), ObjectId('6613436589314a54f728e856'), ObjectId('6613436589314a54f728e857'), ObjectId('6613436589314a54f728e858'), ObjectId('6613436589314a54f728e859'), ObjectId('6613436589314a54f728e85a'), ObjectId('6613436589314a54f728e85b'), ObjectId('6613436589314a54f728e85c'), ObjectId('6613436589314a54f728e85d'), ObjectId('6613436589314a54f728e85e'), ObjectId('6613436589314a54f728e85f'), ObjectId('6613436589314a54f728e860'), ObjectId('6613436589314a54f728e861'), ObjectId('6613436589314a54f728e862'), ObjectId('6613436589314a54f728e863'), ObjectId('6613436589314a54f728e864'), ObjectId('6613436589314a54f728e865'), ObjectId('6613436589314a54f728e866'), ObjectId('6613436589314a54f728e867'), ObjectId('6613436589314a54f728e868'), ObjectId('6613436589314a54f728e869'), ObjectId('6613436589314a54f728e86a'), ObjectId('6613436589314a54f728e86b'), ObjectId('6613436589314a54f728e86c'), ObjectId('6613436589314a54f728e86d'), ObjectId('6613436589314a54f728e86e'), ObjectId('6613436589314a54f728e86f'), ObjectId('6613436589314a54f728e870'), ObjectId('6613436589314a54f728e871'), ObjectId('6613436589314a54f728e872'), ObjectId('6613436589314a54f728e873'), ObjectId('6613436589314a54f728e874'), ObjectId('6613436589314a54f728e875'), ObjectId('6613436589314a54f728e876'), ObjectId('6613436589314a54f728e877'), ObjectId('6613436589314a54f728e878'), ObjectId('6613436589314a54f728e879'), ObjectId('6613436589314a54f728e87a'), ObjectId('6613436589314a54f728e87b'), ObjectId('6613436589314a54f728e87c'), ObjectId('6613436589314a54f728e87d'), ObjectId('6613436589314a54f728e87e'), ObjectId('6613436589314a54f728e87f'), ObjectId('6613436589314a54f728e880'), ObjectId('6613436589314a54f728e881'), ObjectId('6613436589314a54f728e882'), ObjectId('6613436589314a54f728e883'), ObjectId('6613436589314a54f728e884'), ObjectId('6613436589314a54f728e885'), ObjectId('6613436589314a54f728e886'), ObjectId('6613436589314a54f728e887'), ObjectId('6613436589314a54f728e888'), ObjectId('6613436589314a54f728e889'), ObjectId('6613436589314a54f728e88a'), ObjectId('6613436589314a54f728e88b'), ObjectId('6613436589314a54f728e88c'), ObjectId('6613436589314a54f728e88d'), ObjectId('6613436589314a54f728e88e'), ObjectId('6613436589314a54f728e88f'), ObjectId('6613436589314a54f728e890'), ObjectId('6613436589314a54f728e891'), ObjectId('6613436589314a54f728e892'), ObjectId('6613436589314a54f728e893'), ObjectId('6613436589314a54f728e894'), ObjectId('6613436589314a54f728e895'), ObjectId('6613436589314a54f728e896'), ObjectId('6613436589314a54f728e897'), ObjectId('6613436589314a54f728e898'), ObjectId('6613436589314a54f728e899'), ObjectId('6613436589314a54f728e89a'), ObjectId('6613436589314a54f728e89b'), ObjectId('6613436589314a54f728e89c'), ObjectId('6613436589314a54f728e89d'), ObjectId('6613436589314a54f728e89e'), ObjectId('6613436589314a54f728e89f'), ObjectId('6613436589314a54f728e8a0'), ObjectId('6613436589314a54f728e8a1'), ObjectId('6613436589314a54f728e8a2'), ObjectId('6613436589314a54f728e8a3'), ObjectId('6613436589314a54f728e8a4'), ObjectId('6613436589314a54f728e8a5'), ObjectId('6613436589314a54f728e8a6'), ObjectId('6613436589314a54f728e8a7'), ObjectId('6613436589314a54f728e8a8'), ObjectId('6613436589314a54f728e8a9'), ObjectId('6613436589314a54f728e8aa'), ObjectId('6613436589314a54f728e8ab'), ObjectId('6613436589314a54f728e8ac'), ObjectId('6613436589314a54f728e8ad'), ObjectId('6613436589314a54f728e8ae'), ObjectId('6613436589314a54f728e8af'), ObjectId('6613436589314a54f728e8b0'), ObjectId('6613436589314a54f728e8b1'), ObjectId('6613436589314a54f728e8b2'), ObjectId('6613436589314a54f728e8b3'), ObjectId('6613436589314a54f728e8b4'), ObjectId('6613436589314a54f728e8b5'), ObjectId('6613436589314a54f728e8b6'), ObjectId('6613436589314a54f728e8b7'), ObjectId('6613436589314a54f728e8b8'), ObjectId('6613436589314a54f728e8b9'), ObjectId('6613436589314a54f728e8ba'), ObjectId('6613436589314a54f728e8bb'), ObjectId('6613436589314a54f728e8bc'), ObjectId('6613436589314a54f728e8bd'), ObjectId('6613436589314a54f728e8be'), ObjectId('6613436589314a54f728e8bf'), ObjectId('6613436589314a54f728e8c0'), ObjectId('6613436589314a54f728e8c1'), ObjectId('6613436589314a54f728e8c2'), ObjectId('6613436589314a54f728e8c3'), ObjectId('6613436589314a54f728e8c4'), ObjectId('6613436589314a54f728e8c5'), ObjectId('6613436589314a54f728e8c6'), ObjectId('6613436589314a54f728e8c7'), ObjectId('6613436589314a54f728e8c8'), ObjectId('6613436589314a54f728e8c9'), ObjectId('6613436589314a54f728e8ca'), ObjectId('6613436589314a54f728e8cb'), ObjectId('6613436589314a54f728e8cc'), ObjectId('6613436589314a54f728e8cd'), ObjectId('6613436589314a54f728e8ce'), ObjectId('6613436589314a54f728e8cf'), ObjectId('6613436589314a54f728e8d0'), ObjectId('6613436589314a54f728e8d1'), ObjectId('6613436589314a54f728e8d2'), ObjectId('6613436589314a54f728e8d3'), ObjectId('6613436589314a54f728e8d4'), ObjectId('6613436589314a54f728e8d5'), ObjectId('6613436589314a54f728e8d6'), ObjectId('6613436589314a54f728e8d7'), ObjectId('6613436589314a54f728e8d8'), ObjectId('6613436589314a54f728e8d9'), ObjectId('6613436589314a54f728e8da'), ObjectId('6613436589314a54f728e8db'), ObjectId('6613436589314a54f728e8dc'), ObjectId('6613436589314a54f728e8dd'), ObjectId('6613436589314a54f728e8de'), ObjectId('6613436589314a54f728e8df'), ObjectId('6613436589314a54f728e8e0'), ObjectId('6613436589314a54f728e8e1'), ObjectId('6613436589314a54f728e8e2'), ObjectId('6613436589314a54f728e8e3'), ObjectId('6613436589314a54f728e8e4'), ObjectId('6613436589314a54f728e8e5'), ObjectId('6613436589314a54f728e8e6'), ObjectId('6613436589314a54f728e8e7'), ObjectId('6613436589314a54f728e8e8'), ObjectId('6613436589314a54f728e8e9'), ObjectId('6613436589314a54f728e8ea'), ObjectId('6613436589314a54f728e8eb'), ObjectId('6613436589314a54f728e8ec'), ObjectId('6613436589314a54f728e8ed'), ObjectId('6613436589314a54f728e8ee'), ObjectId('6613436589314a54f728e8ef'), ObjectId('6613436589314a54f728e8f0'), ObjectId('6613436589314a54f728e8f1'), ObjectId('6613436589314a54f728e8f2'), ObjectId('6613436589314a54f728e8f3'), ObjectId('6613436589314a54f728e8f4'), ObjectId('6613436589314a54f728e8f5'), ObjectId('6613436589314a54f728e8f6'), ObjectId('6613436589314a54f728e8f7'), ObjectId('6613436589314a54f728e8f8'), ObjectId('6613436589314a54f728e8f9'), ObjectId('6613436589314a54f728e8fa'), ObjectId('6613436589314a54f728e8fb'), ObjectId('6613436589314a54f728e8fc'), ObjectId('6613436589314a54f728e8fd'), ObjectId('6613436589314a54f728e8fe'), ObjectId('6613436589314a54f728e8ff'), ObjectId('6613436589314a54f728e900'), ObjectId('6613436589314a54f728e901'), ObjectId('6613436589314a54f728e902'), ObjectId('6613436589314a54f728e903'), ObjectId('6613436589314a54f728e904'), ObjectId('6613436589314a54f728e905'), ObjectId('6613436589314a54f728e906'), ObjectId('6613436589314a54f728e907'), ObjectId('6613436589314a54f728e908'), ObjectId('6613436589314a54f728e909'), ObjectId('6613436589314a54f728e90a'), ObjectId('6613436589314a54f728e90b'), ObjectId('6613436589314a54f728e90c'), ObjectId('6613436589314a54f728e90d'), ObjectId('6613436589314a54f728e90e'), ObjectId('6613436589314a54f728e90f'), ObjectId('6613436589314a54f728e910'), ObjectId('6613436589314a54f728e911'), ObjectId('6613436589314a54f728e912'), ObjectId('6613436589314a54f728e913'), ObjectId('6613436589314a54f728e914'), ObjectId('6613436589314a54f728e915'), ObjectId('6613436589314a54f728e916'), ObjectId('6613436589314a54f728e917'), ObjectId('6613436589314a54f728e918'), ObjectId('6613436589314a54f728e919'), ObjectId('6613436589314a54f728e91a'), ObjectId('6613436589314a54f728e91b'), ObjectId('6613436589314a54f728e91c'), ObjectId('6613436589314a54f728e91d'), ObjectId('6613436589314a54f728e91e'), ObjectId('6613436589314a54f728e91f'), ObjectId('6613436589314a54f728e920'), ObjectId('6613436589314a54f728e921'), ObjectId('6613436589314a54f728e922'), ObjectId('6613436589314a54f728e923'), ObjectId('6613436589314a54f728e924'), ObjectId('6613436589314a54f728e925'), ObjectId('6613436589314a54f728e926'), ObjectId('6613436589314a54f728e927'), ObjectId('6613436589314a54f728e928'), ObjectId('6613436589314a54f728e929'), ObjectId('6613436589314a54f728e92a'), ObjectId('6613436589314a54f728e92b'), ObjectId('6613436589314a54f728e92c'), ObjectId('6613436589314a54f728e92d'), ObjectId('6613436589314a54f728e92e'), ObjectId('6613436589314a54f728e92f'), ObjectId('6613436589314a54f728e930'), ObjectId('6613436589314a54f728e931'), ObjectId('6613436589314a54f728e932'), ObjectId('6613436589314a54f728e933'), ObjectId('6613436589314a54f728e934'), ObjectId('6613436589314a54f728e935'), ObjectId('6613436589314a54f728e936'), ObjectId('6613436589314a54f728e937'), ObjectId('6613436589314a54f728e938'), ObjectId('6613436589314a54f728e939'), ObjectId('6613436589314a54f728e93a'), ObjectId('6613436589314a54f728e93b'), ObjectId('6613436589314a54f728e93c'), ObjectId('6613436589314a54f728e93d'), ObjectId('6613436589314a54f728e93e'), ObjectId('6613436589314a54f728e93f'), ObjectId('6613436589314a54f728e940'), ObjectId('6613436589314a54f728e941'), ObjectId('6613436589314a54f728e942'), ObjectId('6613436589314a54f728e943'), ObjectId('6613436589314a54f728e944'), ObjectId('6613436589314a54f728e945'), ObjectId('6613436589314a54f728e946'), ObjectId('6613436589314a54f728e947'), ObjectId('6613436589314a54f728e948'), ObjectId('6613436589314a54f728e949'), ObjectId('6613436589314a54f728e94a'), ObjectId('6613436589314a54f728e94b'), ObjectId('6613436589314a54f728e94c'), ObjectId('6613436589314a54f728e94d'), ObjectId('6613436589314a54f728e94e'), ObjectId('6613436589314a54f728e94f'), ObjectId('6613436589314a54f728e950'), ObjectId('6613436589314a54f728e951'), ObjectId('6613436589314a54f728e952'), ObjectId('6613436589314a54f728e953'), ObjectId('6613436589314a54f728e954'), ObjectId('6613436589314a54f728e955'), ObjectId('6613436589314a54f728e956'), ObjectId('6613436589314a54f728e957'), ObjectId('6613436589314a54f728e958'), ObjectId('6613436589314a54f728e959'), ObjectId('6613436589314a54f728e95a'), ObjectId('6613436589314a54f728e95b'), ObjectId('6613436589314a54f728e95c'), ObjectId('6613436589314a54f728e95d'), ObjectId('6613436589314a54f728e95e'), ObjectId('6613436589314a54f728e95f'), ObjectId('6613436589314a54f728e960'), ObjectId('6613436589314a54f728e961'), ObjectId('6613436589314a54f728e962'), ObjectId('6613436589314a54f728e963'), ObjectId('6613436589314a54f728e964'), ObjectId('6613436589314a54f728e965'), ObjectId('6613436589314a54f728e966'), ObjectId('6613436589314a54f728e967'), ObjectId('6613436589314a54f728e968'), ObjectId('6613436589314a54f728e969'), ObjectId('6613436589314a54f728e96a'), ObjectId('6613436589314a54f728e96b'), ObjectId('6613436589314a54f728e96c'), ObjectId('6613436589314a54f728e96d'), ObjectId('6613436589314a54f728e96e'), ObjectId('6613436589314a54f728e96f'), ObjectId('6613436589314a54f728e970'), ObjectId('6613436589314a54f728e971'), ObjectId('6613436589314a54f728e972'), ObjectId('6613436589314a54f728e973'), ObjectId('6613436589314a54f728e974'), ObjectId('6613436589314a54f728e975'), ObjectId('6613436589314a54f728e976'), ObjectId('6613436589314a54f728e977'), ObjectId('6613436589314a54f728e978'), ObjectId('6613436589314a54f728e979'), ObjectId('6613436589314a54f728e97a'), ObjectId('6613436589314a54f728e97b'), ObjectId('6613436589314a54f728e97c'), ObjectId('6613436589314a54f728e97d'), ObjectId('6613436589314a54f728e97e'), ObjectId('6613436589314a54f728e97f'), ObjectId('6613436589314a54f728e980'), ObjectId('6613436589314a54f728e981'), ObjectId('6613436589314a54f728e982'), ObjectId('6613436589314a54f728e983'), ObjectId('6613436589314a54f728e984'), ObjectId('6613436589314a54f728e985'), ObjectId('6613436589314a54f728e986'), ObjectId('6613436589314a54f728e987'), ObjectId('6613436589314a54f728e988'), ObjectId('6613436589314a54f728e989'), ObjectId('6613436589314a54f728e98a'), ObjectId('6613436589314a54f728e98b'), ObjectId('6613436589314a54f728e98c'), ObjectId('6613436589314a54f728e98d'), ObjectId('6613436589314a54f728e98e'), ObjectId('6613436589314a54f728e98f'), ObjectId('6613436589314a54f728e990'), ObjectId('6613436589314a54f728e991'), ObjectId('6613436589314a54f728e992'), ObjectId('6613436589314a54f728e993'), ObjectId('6613436589314a54f728e994'), ObjectId('6613436589314a54f728e995'), ObjectId('6613436589314a54f728e996'), ObjectId('6613436589314a54f728e997'), ObjectId('6613436589314a54f728e998'), ObjectId('6613436589314a54f728e999'), ObjectId('6613436589314a54f728e99a'), ObjectId('6613436589314a54f728e99b'), ObjectId('6613436589314a54f728e99c'), ObjectId('6613436589314a54f728e99d'), ObjectId('6613436589314a54f728e99e'), ObjectId('6613436589314a54f728e99f'), ObjectId('6613436589314a54f728e9a0'), ObjectId('6613436589314a54f728e9a1'), ObjectId('6613436589314a54f728e9a2'), ObjectId('6613436589314a54f728e9a3'), ObjectId('6613436589314a54f728e9a4'), ObjectId('6613436589314a54f728e9a5'), ObjectId('6613436589314a54f728e9a6'), ObjectId('6613436589314a54f728e9a7'), ObjectId('6613436589314a54f728e9a8'), ObjectId('6613436589314a54f728e9a9'), ObjectId('6613436589314a54f728e9aa'), ObjectId('6613436589314a54f728e9ab'), ObjectId('6613436589314a54f728e9ac'), ObjectId('6613436589314a54f728e9ad'), ObjectId('6613436589314a54f728e9ae'), ObjectId('6613436589314a54f728e9af'), ObjectId('6613436589314a54f728e9b0'), ObjectId('6613436589314a54f728e9b1'), ObjectId('6613436589314a54f728e9b2'), ObjectId('6613436589314a54f728e9b3'), ObjectId('6613436589314a54f728e9b4'), ObjectId('6613436589314a54f728e9b5'), ObjectId('6613436589314a54f728e9b6'), ObjectId('6613436589314a54f728e9b7'), ObjectId('6613436589314a54f728e9b8'), ObjectId('6613436589314a54f728e9b9'), ObjectId('6613436589314a54f728e9ba'), ObjectId('6613436589314a54f728e9bb'), ObjectId('6613436589314a54f728e9bc'), ObjectId('6613436589314a54f728e9bd'), ObjectId('6613436589314a54f728e9be'), ObjectId('6613436589314a54f728e9bf'), ObjectId('6613436589314a54f728e9c0'), ObjectId('6613436589314a54f728e9c1'), ObjectId('6613436589314a54f728e9c2'), ObjectId('6613436589314a54f728e9c3'), ObjectId('6613436589314a54f728e9c4'), ObjectId('6613436589314a54f728e9c5'), ObjectId('6613436589314a54f728e9c6'), ObjectId('6613436589314a54f728e9c7'), ObjectId('6613436589314a54f728e9c8'), ObjectId('6613436589314a54f728e9c9'), ObjectId('6613436589314a54f728e9ca'), ObjectId('6613436589314a54f728e9cb'), ObjectId('6613436589314a54f728e9cc'), ObjectId('6613436589314a54f728e9cd'), ObjectId('6613436589314a54f728e9ce'), ObjectId('6613436589314a54f728e9cf'), ObjectId('6613436589314a54f728e9d0'), ObjectId('6613436589314a54f728e9d1'), ObjectId('6613436589314a54f728e9d2'), ObjectId('6613436589314a54f728e9d3'), ObjectId('6613436589314a54f728e9d4'), ObjectId('6613436589314a54f728e9d5'), ObjectId('6613436589314a54f728e9d6'), ObjectId('6613436589314a54f728e9d7'), ObjectId('6613436589314a54f728e9d8'), ObjectId('6613436589314a54f728e9d9'), ObjectId('6613436589314a54f728e9da'), ObjectId('6613436589314a54f728e9db'), ObjectId('6613436589314a54f728e9dc'), ObjectId('6613436589314a54f728e9dd'), ObjectId('6613436589314a54f728e9de'), ObjectId('6613436589314a54f728e9df'), ObjectId('6613436589314a54f728e9e0'), ObjectId('6613436589314a54f728e9e1'), ObjectId('6613436589314a54f728e9e2'), ObjectId('6613436589314a54f728e9e3'), ObjectId('6613436589314a54f728e9e4'), ObjectId('6613436589314a54f728e9e5'), ObjectId('6613436589314a54f728e9e6'), ObjectId('6613436589314a54f728e9e7'), ObjectId('6613436589314a54f728e9e8'), ObjectId('6613436589314a54f728e9e9'), ObjectId('6613436589314a54f728e9ea'), ObjectId('6613436589314a54f728e9eb'), ObjectId('6613436589314a54f728e9ec'), ObjectId('6613436589314a54f728e9ed'), ObjectId('6613436589314a54f728e9ee'), ObjectId('6613436589314a54f728e9ef'), ObjectId('6613436589314a54f728e9f0'), ObjectId('6613436589314a54f728e9f1'), ObjectId('6613436589314a54f728e9f2'), ObjectId('6613436589314a54f728e9f3'), ObjectId('6613436589314a54f728e9f4'), ObjectId('6613436589314a54f728e9f5'), ObjectId('6613436589314a54f728e9f6'), ObjectId('6613436589314a54f728e9f7'), ObjectId('6613436589314a54f728e9f8'), ObjectId('6613436589314a54f728e9f9'), ObjectId('6613436589314a54f728e9fa'), ObjectId('6613436589314a54f728e9fb'), ObjectId('6613436589314a54f728e9fc'), ObjectId('6613436589314a54f728e9fd'), ObjectId('6613436589314a54f728e9fe'), ObjectId('6613436589314a54f728e9ff'), ObjectId('6613436589314a54f728ea00'), ObjectId('6613436589314a54f728ea01'), ObjectId('6613436589314a54f728ea02'), ObjectId('6613436589314a54f728ea03'), ObjectId('6613436589314a54f728ea04'), ObjectId('6613436589314a54f728ea05'), ObjectId('6613436589314a54f728ea06'), ObjectId('6613436589314a54f728ea07'), ObjectId('6613436589314a54f728ea08'), ObjectId('6613436589314a54f728ea09'), ObjectId('6613436589314a54f728ea0a'), ObjectId('6613436589314a54f728ea0b'), ObjectId('6613436589314a54f728ea0c'), ObjectId('6613436589314a54f728ea0d'), ObjectId('6613436589314a54f728ea0e'), ObjectId('6613436589314a54f728ea0f'), ObjectId('6613436589314a54f728ea10'), ObjectId('6613436589314a54f728ea11'), ObjectId('6613436589314a54f728ea12'), ObjectId('6613436589314a54f728ea13'), ObjectId('6613436589314a54f728ea14'), ObjectId('6613436589314a54f728ea15'), ObjectId('6613436589314a54f728ea16'), ObjectId('6613436589314a54f728ea17'), ObjectId('6613436589314a54f728ea18'), ObjectId('6613436589314a54f728ea19'), ObjectId('6613436589314a54f728ea1a'), ObjectId('6613436589314a54f728ea1b'), ObjectId('6613436589314a54f728ea1c'), ObjectId('6613436589314a54f728ea1d'), ObjectId('6613436589314a54f728ea1e'), ObjectId('6613436589314a54f728ea1f'), ObjectId('6613436589314a54f728ea20'), ObjectId('6613436589314a54f728ea21'), ObjectId('6613436589314a54f728ea22'), ObjectId('6613436589314a54f728ea23'), ObjectId('6613436589314a54f728ea24'), ObjectId('6613436589314a54f728ea25'), ObjectId('6613436589314a54f728ea26'), ObjectId('6613436589314a54f728ea27'), ObjectId('6613436589314a54f728ea28'), ObjectId('6613436589314a54f728ea29'), ObjectId('6613436589314a54f728ea2a'), ObjectId('6613436589314a54f728ea2b'), ObjectId('6613436589314a54f728ea2c'), ObjectId('6613436589314a54f728ea2d'), ObjectId('6613436589314a54f728ea2e'), ObjectId('6613436589314a54f728ea2f'), ObjectId('6613436589314a54f728ea30'), ObjectId('6613436589314a54f728ea31'), ObjectId('6613436589314a54f728ea32'), ObjectId('6613436589314a54f728ea33'), ObjectId('6613436589314a54f728ea34'), ObjectId('6613436589314a54f728ea35'), ObjectId('6613436589314a54f728ea36'), ObjectId('6613436589314a54f728ea37'), ObjectId('6613436589314a54f728ea38'), ObjectId('6613436589314a54f728ea39'), ObjectId('6613436589314a54f728ea3a'), ObjectId('6613436589314a54f728ea3b'), ObjectId('6613436589314a54f728ea3c'), ObjectId('6613436589314a54f728ea3d'), ObjectId('6613436589314a54f728ea3e'), ObjectId('6613436589314a54f728ea3f'), ObjectId('6613436589314a54f728ea40'), ObjectId('6613436589314a54f728ea41'), ObjectId('6613436589314a54f728ea42'), ObjectId('6613436589314a54f728ea43'), ObjectId('6613436589314a54f728ea44'), ObjectId('6613436589314a54f728ea45'), ObjectId('6613436589314a54f728ea46'), ObjectId('6613436589314a54f728ea47'), ObjectId('6613436589314a54f728ea48'), ObjectId('6613436589314a54f728ea49'), ObjectId('6613436589314a54f728ea4a'), ObjectId('6613436589314a54f728ea4b'), ObjectId('6613436589314a54f728ea4c'), ObjectId('6613436589314a54f728ea4d'), ObjectId('6613436589314a54f728ea4e'), ObjectId('6613436589314a54f728ea4f'), ObjectId('6613436589314a54f728ea50'), ObjectId('6613436589314a54f728ea51'), ObjectId('6613436589314a54f728ea52'), ObjectId('6613436589314a54f728ea53'), ObjectId('6613436589314a54f728ea54'), ObjectId('6613436589314a54f728ea55'), ObjectId('6613436589314a54f728ea56'), ObjectId('6613436589314a54f728ea57'), ObjectId('6613436589314a54f728ea58'), ObjectId('6613436589314a54f728ea59'), ObjectId('6613436589314a54f728ea5a'), ObjectId('6613436589314a54f728ea5b'), ObjectId('6613436589314a54f728ea5c'), ObjectId('6613436589314a54f728ea5d'), ObjectId('6613436589314a54f728ea5e'), ObjectId('6613436589314a54f728ea5f'), ObjectId('6613436589314a54f728ea60'), ObjectId('6613436589314a54f728ea61'), ObjectId('6613436589314a54f728ea62'), ObjectId('6613436589314a54f728ea63'), ObjectId('6613436589314a54f728ea64'), ObjectId('6613436589314a54f728ea65'), ObjectId('6613436589314a54f728ea66'), ObjectId('6613436589314a54f728ea67'), ObjectId('6613436589314a54f728ea68'), ObjectId('6613436589314a54f728ea69'), ObjectId('6613436589314a54f728ea6a'), ObjectId('6613436589314a54f728ea6b'), ObjectId('6613436589314a54f728ea6c'), ObjectId('6613436589314a54f728ea6d'), ObjectId('6613436589314a54f728ea6e'), ObjectId('6613436589314a54f728ea6f'), ObjectId('6613436589314a54f728ea70'), ObjectId('6613436589314a54f728ea71'), ObjectId('6613436589314a54f728ea72'), ObjectId('6613436589314a54f728ea73'), ObjectId('6613436589314a54f728ea74'), ObjectId('6613436589314a54f728ea75'), ObjectId('6613436589314a54f728ea76'), ObjectId('6613436589314a54f728ea77'), ObjectId('6613436589314a54f728ea78'), ObjectId('6613436589314a54f728ea79'), ObjectId('6613436589314a54f728ea7a'), ObjectId('6613436589314a54f728ea7b'), ObjectId('6613436589314a54f728ea7c'), ObjectId('6613436589314a54f728ea7d'), ObjectId('6613436589314a54f728ea7e'), ObjectId('6613436589314a54f728ea7f'), ObjectId('6613436589314a54f728ea80'), ObjectId('6613436589314a54f728ea81'), ObjectId('6613436589314a54f728ea82'), ObjectId('6613436589314a54f728ea83'), ObjectId('6613436589314a54f728ea84'), ObjectId('6613436589314a54f728ea85'), ObjectId('6613436589314a54f728ea86'), ObjectId('6613436589314a54f728ea87'), ObjectId('6613436589314a54f728ea88'), ObjectId('6613436589314a54f728ea89'), ObjectId('6613436589314a54f728ea8a'), ObjectId('6613436589314a54f728ea8b'), ObjectId('6613436589314a54f728ea8c'), ObjectId('6613436589314a54f728ea8d'), ObjectId('6613436589314a54f728ea8e'), ObjectId('6613436589314a54f728ea8f'), ObjectId('6613436589314a54f728ea90'), ObjectId('6613436589314a54f728ea91'), ObjectId('6613436589314a54f728ea92'), ObjectId('6613436589314a54f728ea93'), ObjectId('6613436589314a54f728ea94'), ObjectId('6613436589314a54f728ea95'), ObjectId('6613436589314a54f728ea96'), ObjectId('6613436589314a54f728ea97'), ObjectId('6613436589314a54f728ea98'), ObjectId('6613436589314a54f728ea99'), ObjectId('6613436589314a54f728ea9a'), ObjectId('6613436589314a54f728ea9b'), ObjectId('6613436589314a54f728ea9c'), ObjectId('6613436589314a54f728ea9d'), ObjectId('6613436589314a54f728ea9e'), ObjectId('6613436589314a54f728ea9f'), ObjectId('6613436589314a54f728eaa0'), ObjectId('6613436589314a54f728eaa1'), ObjectId('6613436589314a54f728eaa2'), ObjectId('6613436589314a54f728eaa3'), ObjectId('6613436589314a54f728eaa4'), ObjectId('6613436589314a54f728eaa5'), ObjectId('6613436589314a54f728eaa6'), ObjectId('6613436589314a54f728eaa7'), ObjectId('6613436589314a54f728eaa8'), ObjectId('6613436589314a54f728eaa9'), ObjectId('6613436589314a54f728eaaa'), ObjectId('6613436589314a54f728eaab'), ObjectId('6613436589314a54f728eaac'), ObjectId('6613436589314a54f728eaad'), ObjectId('6613436589314a54f728eaae'), ObjectId('6613436589314a54f728eaaf'), ObjectId('6613436589314a54f728eab0'), ObjectId('6613436589314a54f728eab1'), ObjectId('6613436589314a54f728eab2'), ObjectId('6613436589314a54f728eab3'), ObjectId('6613436589314a54f728eab4'), ObjectId('6613436589314a54f728eab5'), ObjectId('6613436589314a54f728eab6'), ObjectId('6613436589314a54f728eab7'), ObjectId('6613436589314a54f728eab8'), ObjectId('6613436589314a54f728eab9'), ObjectId('6613436589314a54f728eaba'), ObjectId('6613436589314a54f728eabb'), ObjectId('6613436589314a54f728eabc'), ObjectId('6613436589314a54f728eabd'), ObjectId('6613436589314a54f728eabe'), ObjectId('6613436589314a54f728eabf'), ObjectId('6613436589314a54f728eac0'), ObjectId('6613436589314a54f728eac1'), ObjectId('6613436589314a54f728eac2'), ObjectId('6613436589314a54f728eac3'), ObjectId('6613436589314a54f728eac4'), ObjectId('6613436589314a54f728eac5'), ObjectId('6613436589314a54f728eac6'), ObjectId('6613436589314a54f728eac7'), ObjectId('6613436589314a54f728eac8'), ObjectId('6613436589314a54f728eac9'), ObjectId('6613436589314a54f728eaca'), ObjectId('6613436589314a54f728eacb'), ObjectId('6613436589314a54f728eacc'), ObjectId('6613436589314a54f728eacd'), ObjectId('6613436589314a54f728eace'), ObjectId('6613436589314a54f728eacf'), ObjectId('6613436589314a54f728ead0'), ObjectId('6613436589314a54f728ead1'), ObjectId('6613436589314a54f728ead2'), ObjectId('6613436589314a54f728ead3'), ObjectId('6613436589314a54f728ead4'), ObjectId('6613436589314a54f728ead5'), ObjectId('6613436589314a54f728ead6')], acknowledged=True)"
            ]
          },
          "execution_count": 17,
          "metadata": {},
          "output_type": "execute_result"
        }
      ],
      "source": [
        "# Отправим данные в БД MongoDB\n",
        "collection.insert_many(acb_list)"
      ]
    },
    {
      "cell_type": "markdown",
      "id": "45868417-03c2-4007-8d6c-cbbc21c0b213",
      "metadata": {
        "id": "45868417-03c2-4007-8d6c-cbbc21c0b213"
      },
      "source": [
        "## Вывод:\n",
        "Взял информацию с сайта `https://www.wildberries.ru/` об аккумуляторах 12V для ИБП. Производится поиск информации, прокрутка страницы, для загрузки всех товаров. Осуществлялся переход по кнопке далее при ее наличии и поиск имеющихся ссылок.\n",
        "После того как были собраны все ссылки на аккумуляторы, в другом окне браузера открывалась каждая ссылка и извлекались следующие данные:  \n",
        "- марка;\n",
        "- напряжение аккумулятора;\n",
        "- ёмкость аккумулятора;\n",
        "- бренд;\n",
        "- страна производитель;\n",
        "- цена;\n",
        "- url.\n",
        "  \n",
        "В процессе работы был конфликт с версией Chroma.\n"
      ]
    },
    {
      "cell_type": "code",
      "execution_count": null,
      "id": "d702ad80-9113-4054-ae82-21a7553d0c7a",
      "metadata": {
        "id": "d702ad80-9113-4054-ae82-21a7553d0c7a"
      },
      "outputs": [],
      "source": []
    }
  ],
  "metadata": {
    "colab": {
      "include_colab_link": true,
      "provenance": []
    },
    "kernelspec": {
      "display_name": "Python 3 (ipykernel)",
      "language": "python",
      "name": "python3"
    },
    "language_info": {
      "codemirror_mode": {
        "name": "ipython",
        "version": 3
      },
      "file_extension": ".py",
      "mimetype": "text/x-python",
      "name": "python",
      "nbconvert_exporter": "python",
      "pygments_lexer": "ipython3",
      "version": "3.10.10"
    }
  },
  "nbformat": 4,
  "nbformat_minor": 5
}
